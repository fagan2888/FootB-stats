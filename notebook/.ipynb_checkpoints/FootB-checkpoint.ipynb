{
 "cells": [
  {
   "cell_type": "markdown",
   "metadata": {
    "collapsed": false
   },
   "source": [
    "#  The last 100 years of football, visualized"
   ]
  },
  {
   "cell_type": "markdown",
   "metadata": {
    "collapsed": true
   },
   "source": [
    "This notebook describes the code behind the project FootB, which web-scraps the final table of Serie A (Italy), Premier League (UK), League 1 (France), La Liga (Spain) and looks at their overall statistics. "
   ]
  },
  {
   "cell_type": "markdown",
   "metadata": {},
   "source": [
    "## The data"
   ]
  },
  {
   "cell_type": "markdown",
   "metadata": {},
   "source": [
    "The data come from the english version of wikipedia. The workflow looks something like this:\n",
    "1. Load the webpage\n",
    "2. Find the table we are interested in\n",
    "3. Transform the data in a homogeneous usable format\n",
    "\n",
    "Easy! Unfortunatelly there are some complications: leagues change name over the years (the Premier League was known as Football League before 1992); final tables can contain extra-columns or have differen column names depending on the year and/or on the league (the Football League has columns for home and away matches); some table entries can be of different type."
   ]
  },
  {
   "cell_type": "markdown",
   "metadata": {},
   "source": [
    "## Snippet of the code for Serie A (1985-86)\n",
    "I want to show an example code to transform the final table for Serie A (1985-86) into a pandas dataframe. The code below will not work for all years because the format is not homogeneous. The code working for all seasons and all leagues can be found here and it takes into account all the small differences between the tables. \n",
    "\n",
    "Here is first five entries of the table for Serie A (1985-86):\n",
    "<img src=\"Serie_A.png\" alt=\"Drawing\" style=\"width: 700px;\"/>\n",
    "\n",
    "The columns we are interested in are: the Team name, the game played (Pld), won (W), lost (L), drawn (D), goals for (GF), goals against (GA), goal difference (GD) and points (Pts). Not all leagues used the same scoring system, so below we will redefine Pts using the current system: 3 points for a victory, 1 point for drawn, 0 points for loss."
   ]
  },
  {
   "cell_type": "code",
   "execution_count": 1,
   "metadata": {
    "collapsed": true
   },
   "outputs": [],
   "source": [
    "from bs4 import BeautifulSoup\n",
    "import urllib2\n",
    "import pandas as pd\n",
    "import numpy as np\n",
    "import httplib2\n",
    "import re"
   ]
  },
  {
   "cell_type": "markdown",
   "metadata": {},
   "source": [
    "Most of the wikipedia tables we are dealing with will more than one table:"
   ]
  },
  {
   "cell_type": "code",
   "execution_count": 2,
   "metadata": {
    "collapsed": false
   },
   "outputs": [],
   "source": [
    "header = {'User-Agent': 'Mozilla/5.0'} # Needed to prevent 403 error on Wikipedia\n",
    "\n",
    "wpage = 'https://en.wikipedia.org/wiki/1985-86_Serie_A'\n",
    "req = urllib2.Request(wpage, headers = header)\n",
    "page = urllib2.urlopen(req)\n",
    "soup = BeautifulSoup(page, 'html5lib')\n",
    "all_tables = soup.find_all('table')"
   ]
  },
  {
   "cell_type": "markdown",
   "metadata": {},
   "source": [
    "where `all_tables` is a BeautifulSoup object which contains all the tables of our wikipedia page. \n",
    "\n",
    "We can loop through the tables and break the loop when we find a table containing `W` and `D` in the first row:"
   ]
  },
  {
   "cell_type": "code",
   "execution_count": 3,
   "metadata": {
    "collapsed": false
   },
   "outputs": [
    {
     "name": "stdout",
     "output_type": "stream",
     "text": [
      "['P' 'Team' 'Pld' 'W' 'D' 'L' 'GF' 'GA' 'GD' 'Pts'\n",
      " 'Promotion or relegation']\n"
     ]
    }
   ],
   "source": [
    "theone = [u'W', u'D']\n",
    "for table in all_tables:\n",
    "    all_rows = table.find_all('tr')\n",
    "    lencols = len(all_rows[0].find_all('th')) \n",
    "    #Extract column names only\n",
    "    cols = np.array([all_rows[0].find_all('th')[i].get_text().encode('ascii', 'ignore') for i in range(0, lencols)])\n",
    "    if (theone[0] in cols) & (theone[1] in cols):\n",
    "        rows = all_rows\n",
    "        lenrows = len(rows)\n",
    "        break\n",
    "print cols"
   ]
  },
  {
   "cell_type": "markdown",
   "metadata": {
    "collapsed": true
   },
   "source": [
    "where`cols` is a list of all column names, whereas `table` is a BeautifulSoup object containing the html for our table of interest. \n",
    "\n",
    "Now we can create an empty dataframe. We will discard the Position column and create a new one from scratch using the dataframe index. We will also ignore the last column which can have different meanings for every year-season"
   ]
  },
  {
   "cell_type": "code",
   "execution_count": 4,
   "metadata": {
    "collapsed": false
   },
   "outputs": [
    {
     "data": {
      "text/html": [
       "<div style=\"max-height:1000px;max-width:1500px;overflow:auto;\">\n",
       "<table border=\"1\" class=\"dataframe\">\n",
       "  <thead>\n",
       "    <tr style=\"text-align: right;\">\n",
       "      <th></th>\n",
       "      <th>Team</th>\n",
       "      <th>Pld</th>\n",
       "      <th>W</th>\n",
       "      <th>D</th>\n",
       "      <th>L</th>\n",
       "      <th>GF</th>\n",
       "      <th>GA</th>\n",
       "      <th>GD</th>\n",
       "    </tr>\n",
       "  </thead>\n",
       "  <tbody>\n",
       "    <tr>\n",
       "      <th>1</th>\n",
       "      <td>NaN</td>\n",
       "      <td>NaN</td>\n",
       "      <td>NaN</td>\n",
       "      <td>NaN</td>\n",
       "      <td>NaN</td>\n",
       "      <td>NaN</td>\n",
       "      <td>NaN</td>\n",
       "      <td>NaN</td>\n",
       "    </tr>\n",
       "    <tr>\n",
       "      <th>2</th>\n",
       "      <td>NaN</td>\n",
       "      <td>NaN</td>\n",
       "      <td>NaN</td>\n",
       "      <td>NaN</td>\n",
       "      <td>NaN</td>\n",
       "      <td>NaN</td>\n",
       "      <td>NaN</td>\n",
       "      <td>NaN</td>\n",
       "    </tr>\n",
       "    <tr>\n",
       "      <th>3</th>\n",
       "      <td>NaN</td>\n",
       "      <td>NaN</td>\n",
       "      <td>NaN</td>\n",
       "      <td>NaN</td>\n",
       "      <td>NaN</td>\n",
       "      <td>NaN</td>\n",
       "      <td>NaN</td>\n",
       "      <td>NaN</td>\n",
       "    </tr>\n",
       "  </tbody>\n",
       "</table>\n",
       "</div>"
      ],
      "text/plain": [
       "  Team  Pld    W    D    L   GF   GA   GD\n",
       "1  NaN  NaN  NaN  NaN  NaN  NaN  NaN  NaN\n",
       "2  NaN  NaN  NaN  NaN  NaN  NaN  NaN  NaN\n",
       "3  NaN  NaN  NaN  NaN  NaN  NaN  NaN  NaN"
      ]
     },
     "execution_count": 4,
     "metadata": {},
     "output_type": "execute_result"
    }
   ],
   "source": [
    "columns = ['Team', 'Pld', 'W', 'D', 'L', 'GF', 'GA', 'GD'] \n",
    "df = pd.DataFrame(columns = columns, index = range(1, lenrows))\n",
    "df.head(3)"
   ]
  },
  {
   "cell_type": "code",
   "execution_count": 11,
   "metadata": {
    "collapsed": false
   },
   "outputs": [
    {
     "name": "stdout",
     "output_type": "stream",
     "text": [
      "       Team Pld   W   D  L  GF  GA  GD  year   league  Pos\n",
      "1  Juventus  30  18   9  3  43  17  26  1986  Serie A    1\n",
      "2      Roma  30  19   3  8  51  27  24  1986  Serie A    2\n",
      "3    Napoli  30  14  11  5  35  21  14  1986  Serie A    3\n"
     ]
    }
   ],
   "source": [
    "for i in range(1, lenrows):\n",
    "    team = rows[i].find_all('td')\n",
    "    df.Team.ix[i] = team[np.where(cols == 'Team')[0][0]].a.get_text().encode('ascii', 'ignore')\n",
    "    for colnames in ['Pld','W', 'D', 'L', 'GF', 'GA','GD']:\n",
    "        mask = np.where(cols == colnames)[0]\n",
    "        df[colnames].ix[i] = int(team[mask[0]].get_text().encode('ascii', 'ignore'))\n",
    "print df.head(3)"
   ]
  },
  {
   "cell_type": "markdown",
   "metadata": {},
   "source": [
    "Let's add the year in which the season ended in the form of a pandas Period, the league name and the final position:"
   ]
  },
  {
   "cell_type": "code",
   "execution_count": 12,
   "metadata": {
    "collapsed": false
   },
   "outputs": [
    {
     "name": "stdout",
     "output_type": "stream",
     "text": [
      "       Team Pld   W   D  L  GF  GA  GD  year   league  Pos\n",
      "1  Juventus  30  18   9  3  43  17  26  1986  Serie A    1\n",
      "2      Roma  30  19   3  8  51  27  24  1986  Serie A    2\n",
      "3    Napoli  30  14  11  5  35  21  14  1986  Serie A    3\n"
     ]
    }
   ],
   "source": [
    "year = wpage.split('/')[-1].split('_')[0]\n",
    "df['year'] = pd.Period(year.split('-')[0]) + 1\n",
    "df['league'] = 'Serie A'\n",
    "df['Pos'] = df.index\n",
    "print df.head(3)"
   ]
  },
  {
   "cell_type": "markdown",
   "metadata": {},
   "source": [
    "Transform the numerical columns into integers"
   ]
  },
  {
   "cell_type": "code",
   "execution_count": 13,
   "metadata": {
    "collapsed": false
   },
   "outputs": [
    {
     "data": {
      "text/plain": [
       "Team      object\n",
       "Pld        int64\n",
       "W          int64\n",
       "D          int64\n",
       "L          int64\n",
       "GF         int64\n",
       "GA         int64\n",
       "GD         int64\n",
       "year      object\n",
       "league    object\n",
       "Pos        int64\n",
       "dtype: object"
      ]
     },
     "execution_count": 13,
     "metadata": {},
     "output_type": "execute_result"
    }
   ],
   "source": [
    "coltmp = ['Pos', 'Pld', 'W', 'D', 'L', 'GF', 'GA','GD']\n",
    "df[coltmp] = df[coltmp].astype(float).astype(int)\n",
    "df.dtypes"
   ]
  },
  {
   "cell_type": "markdown",
   "metadata": {},
   "source": [
    "Lastly, let's define the points `Pts` using the modern standard system, in which victory is 3 points, loss is 1 point and drawn is 0 points"
   ]
  },
  {
   "cell_type": "code",
   "execution_count": 76,
   "metadata": {
    "collapsed": false
   },
   "outputs": [
    {
     "name": "stdout",
     "output_type": "stream",
     "text": [
      "              Team  Pld   W   D   L  GF  GA  GD  year   league  Pos  Pts\n",
      "1         Juventus   30  18   9   3  43  17  26  1986  Serie A    1   63\n",
      "2             Roma   30  19   3   8  51  27  24  1986  Serie A    2   60\n",
      "3           Napoli   30  14  11   5  35  21  14  1986  Serie A    3   53\n",
      "4       Fiorentina   30  10  13   7  29  23   6  1986  Serie A    4   43\n",
      "5           Torino   30  11  11   8  31  26   5  1986  Serie A    5   44\n",
      "6   Internazionale   30  12   8  10  36  33   3  1986  Serie A    6   44\n",
      "7            Milan   30  10  11   9  26  24   2  1986  Serie A    7   41\n",
      "8         Atalanta   30   7  15   8  27  26   1  1986  Serie A    8   36\n",
      "9             Como   30   7  15   8  32  32   0  1986  Serie A    9   36\n",
      "10          Verona   30   9  10  11  31  40  -9  1986  Serie A   10   37\n",
      "11       Sampdoria   30   8  11  11  27  25   2  1986  Serie A   11   35\n",
      "12        Avellino   30   9   9  12  28  38 -10  1986  Serie A   12   36\n",
      "13         Udinese   30   6  13  11  31  37  -6  1986  Serie A   13   31\n",
      "14            Pisa   30   5  13  12  27  40 -13  1986  Serie A   14   28\n",
      "15            Bari   30   5  12  13  18  31 -13  1986  Serie A   15   27\n",
      "16           Lecce   30   5   6  19  23  88 -67  1986  Serie A   16   21\n"
     ]
    }
   ],
   "source": [
    "df['Pts'] = df.W * 3. + df.D\n",
    "print df"
   ]
  },
  {
   "cell_type": "markdown",
   "metadata": {},
   "source": [
    "That's it. We have transformed the final table for the Serie A (1985-86) into a pandas dataframe."
   ]
  },
  {
   "cell_type": "markdown",
   "metadata": {},
   "source": [
    "## All leagues, all years"
   ]
  },
  {
   "cell_type": "code",
   "execution_count": null,
   "metadata": {
    "collapsed": true
   },
   "outputs": [],
   "source": []
  }
 ],
 "metadata": {
  "kernelspec": {
   "display_name": "Python 2",
   "language": "python",
   "name": "python2"
  },
  "language_info": {
   "codemirror_mode": {
    "name": "ipython",
    "version": 2
   },
   "file_extension": ".py",
   "mimetype": "text/x-python",
   "name": "python",
   "nbconvert_exporter": "python",
   "pygments_lexer": "ipython2",
   "version": "2.7.6"
  }
 },
 "nbformat": 4,
 "nbformat_minor": 0
}

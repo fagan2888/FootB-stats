{
 "cells": [
  {
   "cell_type": "markdown",
   "metadata": {
    "collapsed": false
   },
   "source": [
    "#  The last 100 years of football, visualized"
   ]
  },
  {
   "cell_type": "markdown",
   "metadata": {
    "collapsed": true
   },
   "source": [
    "This notebook describes the code behind the project FootB, which web-scraps the final table of Serie A (Italy), Premier League (UK), League 1 (France), La Liga (Spain) and looks at their overall statistics. "
   ]
  },
  {
   "cell_type": "markdown",
   "metadata": {},
   "source": [
    "## The data"
   ]
  },
  {
   "cell_type": "markdown",
   "metadata": {},
   "source": [
    "The data come from the english version of wikipedia. The workflow looks something like this:\n",
    "1. Load the webpage\n",
    "2. Find the table we are interested in\n",
    "3. Transform the data in a homogeneous usable format\n",
    "\n",
    "Easy! Unfortunatelly there are some complications: leagues change name over the years (the Premier League was known as Football League before 1992); final tables can contain extra-columns or have differen column names depending on the year and/or on the league; some table entries can be of different type\n",
    "\n",
    "A good start is to look at the data. Here is first five entries of the table for Serie A (1985-86):"
   ]
  },
  {
   "cell_type": "markdown",
   "metadata": {
    "collapsed": true
   },
   "source": [
    "<img src=\"Serie_A.png\" alt=\"Drawing\" style=\"width: 700px;\"/>\n"
   ]
  },
  {
   "cell_type": "markdown",
   "metadata": {},
   "source": [
    "The columns we are interested in are: the Team name, the game played (Pld), won (W), lost (L), drawn (D), goals for (GF), goals against (GA), goal difference (GD) and points (Pts). Not all leagues used the same scoring system, so below we will redefine Pts using the current system: 3 points for a victory, 1 point for drawn, 0 points for loss."
   ]
  },
  {
   "cell_type": "markdown",
   "metadata": {},
   "source": [
    "## The code\n",
    "First, let's load some modules:"
   ]
  },
  {
   "cell_type": "code",
   "execution_count": 7,
   "metadata": {
    "collapsed": true
   },
   "outputs": [],
   "source": [
    "from bs4 import BeautifulSoup\n",
    "import urllib2\n",
    "import pandas as pd\n",
    "import numpy as np\n",
    "import httplib2\n",
    "import re"
   ]
  },
  {
   "cell_type": "markdown",
   "metadata": {},
   "source": [
    "We want write a function which takes the string of a website address in input and returns a pandas dataframe of the final table."
   ]
  },
  {
   "cell_type": "code",
   "execution_count": 5,
   "metadata": {
    "collapsed": true
   },
   "outputs": [],
   "source": [
    "def FootB(webpage):\n",
    "    # codecodecode\n",
    "    return dataframe"
   ]
  },
  {
   "cell_type": "markdown",
   "metadata": {},
   "source": [
    "Most of the wikipedia tables we are dealing with will more than one table:"
   ]
  },
  {
   "cell_type": "code",
   "execution_count": 9,
   "metadata": {
    "collapsed": false
   },
   "outputs": [],
   "source": [
    "header = {'User-Agent': 'Mozilla/5.0'} # Needed to prevent 403 error on Wikipedia\n",
    "\n",
    "wpage = 'https://en.wikipedia.org/wiki/1985-86_Serie_A'\n",
    "req = urllib2.Request(wpage, headers = header)\n",
    "page = urllib2.urlopen(req)\n",
    "soup = BeautifulSoup(page, 'html5lib')\n",
    "all_tables = soup.find_all('table')"
   ]
  },
  {
   "cell_type": "markdown",
   "metadata": {},
   "source": [
    "where `all_tables` is a BeautifulSoup object which contains all the tables of our wikipedia page. \n",
    "\n",
    "We can loop through the tables and break the loop when we find a table containing `W` and `D` in the first row:"
   ]
  },
  {
   "cell_type": "code",
   "execution_count": 17,
   "metadata": {
    "collapsed": false
   },
   "outputs": [],
   "source": [
    "theone = [u'W', u'D']\n",
    "for table in all_tables:\n",
    "    all_rows = table.find_all('tr')\n",
    "    lencols = len(all_rows[0].find_all('th')) \n",
    "    #Extract column names only\n",
    "    cols = np.array([all_rows[0].find_all('th')[i].get_text().encode('ascii', 'ignore') for i in range(0, lencols)])\n",
    "        \n",
    "    if (theone[0] in cols) & (theone[1] in cols):\n",
    "        # Delete unicode link tags from the Team column\n",
    "        if len(cols[1]) > 10:\n",
    "            cols[1] = cols[1].strip('\\n\\n\\nv\\nt\\ne\\n\\n\\n\\n') \n",
    "        # Rename columns which do not match our standard format\n",
    "        cols[cols == 'Club'] = 'Team'\n",
    "        cols[cols == 'Played'] = 'Pld'\n",
    "        cols[cols == 'Points'] = 'Pts'\n",
    "        cols[cols == 'Wins'] = 'W'\n",
    "        cols[cols == 'Draws'] = 'D'\n",
    "        cols[cols == 'Losses'] = 'L'\n",
    "        cols[cols == 'Goals for'] = 'GF'\n",
    "        cols[cols == 'Goals against'] = 'GA'\n",
    "        cols[cols == 'F'] = 'GF'\n",
    "        cols[cols == 'A'] = 'GA'\n",
    "        # Mask rows which are not related to Team information \n",
    "        rows = []\n",
    "        for r in all_rows:\n",
    "            if len(r) > 5:\n",
    "                rows.append(r)\n",
    "        lenrows = len(rows)\n",
    "        break"
   ]
  },
  {
   "cell_type": "code",
   "execution_count": null,
   "metadata": {
    "collapsed": true
   },
   "outputs": [],
   "source": []
  }
 ],
 "metadata": {
  "kernelspec": {
   "display_name": "Python 2",
   "language": "python",
   "name": "python2"
  },
  "language_info": {
   "codemirror_mode": {
    "name": "ipython",
    "version": 2
   },
   "file_extension": ".py",
   "mimetype": "text/x-python",
   "name": "python",
   "nbconvert_exporter": "python",
   "pygments_lexer": "ipython2",
   "version": "2.7.6"
  }
 },
 "nbformat": 4,
 "nbformat_minor": 0
}

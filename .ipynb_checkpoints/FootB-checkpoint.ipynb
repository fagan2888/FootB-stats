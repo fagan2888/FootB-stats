{
 "cells": [
  {
   "cell_type": "markdown",
   "metadata": {
    "collapsed": false
   },
   "source": [
    "#  The last 100 years of football, visualized"
   ]
  },
  {
   "cell_type": "markdown",
   "metadata": {
    "collapsed": true
   },
   "source": [
    "This notebook describes the code behind the project FootB, which web-scraps the final table of Serie A (Italy), Premier League (UK), League 1 (France), La Liga (Spain) and looks at their overall statistics. "
   ]
  },
  {
   "cell_type": "markdown",
   "metadata": {},
   "source": [
    "## The data"
   ]
  },
  {
   "cell_type": "markdown",
   "metadata": {},
   "source": [
    "The data come from the english version of wikipedia. The workflow looks something like this:\n",
    "1. Load the webpage\n",
    "2. Find the table we are interested in\n",
    "3. Transform the data in a homogeneous usable format\n",
    "\n",
    "Easy! Unfortunatelly there are some complications: leagues change name over the years (the Premier League was known as Football League before 1992); final tables can contain extra-columns or have differen column names depending on the year and/or on the league; some table entries can be of different type\n",
    "\n",
    "A good start is to look at the data. Here is a final table of La Liga (1969-1970) on the left, and Serie A (1985-86) on the right"
   ]
  },
  {
   "cell_type": "code",
   "execution_count": null,
   "metadata": {
    "collapsed": true
   },
   "outputs": [],
   "source": []
  }
 ],
 "metadata": {
  "kernelspec": {
   "display_name": "Python 2",
   "language": "python",
   "name": "python2"
  },
  "language_info": {
   "codemirror_mode": {
    "name": "ipython",
    "version": 2
   },
   "file_extension": ".py",
   "mimetype": "text/x-python",
   "name": "python",
   "nbconvert_exporter": "python",
   "pygments_lexer": "ipython2",
   "version": "2.7.6"
  }
 },
 "nbformat": 4,
 "nbformat_minor": 0
}
